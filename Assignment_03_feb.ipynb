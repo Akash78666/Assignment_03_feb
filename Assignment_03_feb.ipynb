{
 "cells": [
  {
   "cell_type": "code",
   "execution_count": 1,
   "id": "a4e13002-8631-4896-9b0b-bca4115890c1",
   "metadata": {},
   "outputs": [
    {
     "name": "stdout",
     "output_type": "stream",
     "text": [
      "[2, 4, 6, 8, 10, 12, 14, 16, 18, 20, 22, 24]\n"
     ]
    }
   ],
   "source": [
    "def printOdd():\n",
    "    mylist=[]\n",
    "    for i in range(1,25):\n",
    "        if i%2==0:\n",
    "            mylist.append(i)\n",
    "    return mylist\n",
    "\n",
    "print(printOdd())"
   ]
  },
  {
   "cell_type": "code",
   "execution_count": 2,
   "id": "5e9166b7-2b17-4ef7-8fa5-effa3317b4f6",
   "metadata": {},
   "outputs": [
    {
     "name": "stdout",
     "output_type": "stream",
     "text": [
      "1.0\n"
     ]
    }
   ],
   "source": [
    "def test(*args , a,b,c) :\n",
    "    return (a*b/c)\n",
    "print(test(a=2,b=5,c=10))\n",
    "#*args allows us to pass a variable number of non-keyword arguments to a Python function"
   ]
  },
  {
   "cell_type": "code",
   "execution_count": 3,
   "id": "b08518a9-f73e-4587-b3d0-99a46d918967",
   "metadata": {},
   "outputs": [],
   "source": [
    "def test15(**kwargs):\n",
    "    return kwargs\n",
    "print=test15(a = [1,2,3,4] , b = \"sudh\" , c = 23.45 )\n",
    "#**kwargs allows us to pass a variable number of keyword arguments to a Python function. In the function, we use the double-asterisk ( ** ) before the parameter name to denote this type of argument.\n"
   ]
  },
  {
   "cell_type": "code",
   "execution_count": 6,
   "id": "fe1115a9-f119-4117-a2f3-358dd0f71923",
   "metadata": {},
   "outputs": [
    {
     "ename": "TypeError",
     "evalue": "'dict' object is not callable",
     "output_type": "error",
     "traceback": [
      "\u001b[0;31m---------------------------------------------------------------------------\u001b[0m",
      "\u001b[0;31mTypeError\u001b[0m                                 Traceback (most recent call last)",
      "Cell \u001b[0;32mIn[6], line 6\u001b[0m\n\u001b[1;32m      4\u001b[0m my\u001b[38;5;241m=\u001b[39m[\u001b[38;5;241m2\u001b[39m,\u001b[38;5;241m4\u001b[39m,\u001b[38;5;241m6\u001b[39m,\u001b[38;5;241m8\u001b[39m,\u001b[38;5;241m10\u001b[39m,\u001b[38;5;241m12\u001b[39m,\u001b[38;5;241m14\u001b[39m]\n\u001b[1;32m      5\u001b[0m myit\u001b[38;5;241m=\u001b[39m\u001b[38;5;28miter\u001b[39m(my)\n\u001b[0;32m----> 6\u001b[0m \u001b[38;5;28;43mprint\u001b[39;49m\u001b[43m(\u001b[49m\u001b[38;5;28;43mnext\u001b[39;49m\u001b[43m(\u001b[49m\u001b[43mmyit\u001b[49m\u001b[43m)\u001b[49m\u001b[43m)\u001b[49m\n\u001b[1;32m      7\u001b[0m \u001b[38;5;28mprint\u001b[39m(\u001b[38;5;28mnext\u001b[39m(myit))\n\u001b[1;32m      8\u001b[0m \u001b[38;5;28mprint\u001b[39m(\u001b[38;5;28mnext\u001b[39m(myit))\n",
      "\u001b[0;31mTypeError\u001b[0m: 'dict' object is not callable"
     ]
    }
   ],
   "source": [
    "## An iterator is an object that contais a countable number of values. An iterator is an object that can be iterated\n",
    "#upon, meaning that you can traverse through all tha value. Technically, in python, an iterator is an object which implements the iterator protocol which consist of \n",
    "# methods:- __iter__ and __and__.\n",
    "my=[2,4,6,8,10,12,14]\n",
    "myit=iter(my)\n",
    "print(next(myit))\n",
    "print(next(myit))\n",
    "print(next(myit))\n",
    "print(next(myit))"
   ]
  },
  {
   "cell_type": "code",
   "execution_count": 16,
   "id": "f8de864a-17b0-4acb-b7d4-b80f0006887e",
   "metadata": {},
   "outputs": [],
   "source": [
    "def my_generator():\n",
    "    num=1\n",
    "    for num  in range(1,1001):\n",
    "        c=0\n",
    "    \n",
    "    \n",
    "    for i in range(1,num+1):\n",
    "            if num%i==0:\n",
    "                c+=1\n",
    "    if c==2:\n",
    "            print(num,end=\"\")\n",
    "\n",
    "my_generator()"
   ]
  },
  {
   "cell_type": "code",
   "execution_count": null,
   "id": "b755f9f1-768a-496b-a4bb-e293739e1f7b",
   "metadata": {},
   "outputs": [],
   "source": [
    "n=int(input())\n",
    "temp=n\n",
    "rev=0\n",
    "while n!=0:\n",
    "    rem=n%10\n",
    "    rev=rev*10+rem\n",
    "    n=int(n/10)\n",
    "if(temp==rev):\n",
    "    print(temp,\"is a palindrome number\")\n",
    "else:\n",
    "    print(temp,\"is not a palindrome number\")"
   ]
  },
  {
   "cell_type": "code",
   "execution_count": 1,
   "id": "967e8e8a-3b30-40ec-8653-624602e1d9e0",
   "metadata": {},
   "outputs": [
    {
     "name": "stdout",
     "output_type": "stream",
     "text": [
      "['P', 'W', 'S', 'k', 'i', 'l', 'l', 's']\n"
     ]
    }
   ],
   "source": [
    "x=\"PWSkills\"\n",
    "xList=[y for y in x]\n",
    "\n",
    "print(xList)"
   ]
  },
  {
   "cell_type": "code",
   "execution_count": 2,
   "id": "0cbe2c23-04e7-4ffa-bb6d-65bfd61df292",
   "metadata": {},
   "outputs": [
    {
     "name": "stdin",
     "output_type": "stream",
     "text": [
      "enter the number \n",
      "  10\n"
     ]
    },
    {
     "name": "stdout",
     "output_type": "stream",
     "text": [
      "0\n",
      "1\n",
      "1\n",
      "2\n",
      "3\n",
      "5\n",
      "8\n",
      "13\n",
      "21\n",
      "34\n"
     ]
    }
   ],
   "source": [
    "number = int(input(\"enter the number \\n \"))\n",
    "a , b  = 0 , 1 \n",
    "counter = 0 \n",
    "while counter < number : \n",
    "    print(a)\n",
    "    c = a+ b\n",
    "    a = b \n",
    "    b = c \n",
    "    counter= counter+ 1"
   ]
  },
  {
   "cell_type": "code",
   "execution_count": 3,
   "id": "0a93cbae-9d53-4424-9e2a-73372b08b9a8",
   "metadata": {},
   "outputs": [
    {
     "name": "stdout",
     "output_type": "stream",
     "text": [
      "[2, 4, 6, 8, 10, 12, 14, 16, 18, 20, 22, 24, 26, 28, 30, 32, 34, 36, 38, 40, 42, 44, 46, 48, 50, 52, 54, 56, 58, 60, 62, 64, 66, 68, 70, 72, 74, 76, 78, 80, 82, 84, 86, 88, 90, 92, 94, 96, 98]\n"
     ]
    }
   ],
   "source": [
    "divisible_by_2 = [x for x in range(1, 100) if x % 2 == 0]\n",
    "print(divisible_by_2)\n"
   ]
  },
  {
   "cell_type": "code",
   "execution_count": null,
   "id": "16712c90-1c07-4a3c-a49a-e98c3259bb9c",
   "metadata": {},
   "outputs": [],
   "source": []
  }
 ],
 "metadata": {
  "kernelspec": {
   "display_name": "Python 3 (ipykernel)",
   "language": "python",
   "name": "python3"
  },
  "language_info": {
   "codemirror_mode": {
    "name": "ipython",
    "version": 3
   },
   "file_extension": ".py",
   "mimetype": "text/x-python",
   "name": "python",
   "nbconvert_exporter": "python",
   "pygments_lexer": "ipython3",
   "version": "3.10.8"
  }
 },
 "nbformat": 4,
 "nbformat_minor": 5
}
